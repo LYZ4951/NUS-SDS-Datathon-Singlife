{
 "cells": [
  {
   "cell_type": "markdown",
   "metadata": {},
   "source": [
    "##### The cell below is for you to keep track of the libraries used and install those libraries quickly\n",
    "##### Ensure that the proper library names are used and the syntax of `%pip install PACKAGE_NAME` is followed"
   ]
  },
  {
   "cell_type": "code",
   "execution_count": null,
   "metadata": {},
   "outputs": [],
   "source": [
    "#%pip install pandas\n",
    "#%pip install pyarrow\n",
    "#%pip install numpy\n",
    "#%pip install scikit-learn\n",
    "#%pip install imbalanced-learn\n",
    "#%pip install matplotlib\n",
    "\n",
    "import pandas as pd\n",
    "import numpy as np\n",
    "from datetime import datetime\n",
    "from sklearn.preprocessing import LabelEncoder\n",
    "from sklearn.ensemble import RandomForestClassifier\n",
    "from sklearn.metrics import classification_report, accuracy_score\n",
    "from imblearn.over_sampling import SMOTE\n",
    "from sklearn.model_selection import train_test_split\n",
    "from collections import Counter\n",
    "from sklearn.model_selection import train_test_split, cross_val_score"
   ]
  },
  {
   "cell_type": "markdown",
   "metadata": {},
   "source": [
    "## **DO NOT CHANGE** the filepath variable\n",
    "##### Instead, create a folder named 'data' in your current working directory and \n",
    "##### have the .parquet file inside that. A relative path *must* be used when loading data into pandas"
   ]
  },
  {
   "cell_type": "code",
   "execution_count": 8,
   "metadata": {},
   "outputs": [],
   "source": [
    "# Can have as many cells as you want for code\n",
    "import pandas as pd\n",
    "filepath = \"./data/datathon.parquet\" \n",
    "# the initialised filepath MUST be a relative path to a folder named data that contains the parquet file"
   ]
  },
  {
   "cell_type": "markdown",
   "metadata": {},
   "source": [
    "### **ALL** Code for machine learning and dataset analysis should be entered below. \n",
    "##### Ensure that your code is clear and readable.\n",
    "##### Comments and Markdown notes are advised to direct attention to pieces of code you deem useful."
   ]
  },
  {
   "cell_type": "markdown",
   "metadata": {},
   "source": [
    "## Data cleaning"
   ]
  },
  {
   "cell_type": "markdown",
   "metadata": {},
   "source": [
    "### Deleting unnecessary and combining similar variables\n",
    "\n"
   ]
  },
  {
   "cell_type": "code",
   "execution_count": null,
   "metadata": {},
   "outputs": [],
   "source": [
    "df_orig = pd.read_parquet('catB_train.parquet')\n",
    "df = df_orig.copy()\n",
    "\n",
    "exclude = [\"grp\", \"ltc\", \"gi\", \"ape\", \"sumin\", \"prempaid\", \"inv\",\n",
    "           \"consent\", \"valid\", \"ctry\", \"pr\",\n",
    "           \"mindef\", \"elx\", \"retail\", \"housewife\",\n",
    "           \"mail\", \"hold\", \"hh_20\", \"pop_20\", \"hh_size\",\n",
    "           \"affconnect\", \"n_months_since_visit_affcon\", \"clmcon_visit_days\",\n",
    "           \"claim\", \"index\", \"recency\", \"class\", \"type\", \"clntnum\", \"at_least\", \"occ\"]\n",
    "\n",
    "df1 = df.loc[:, df.apply(lambda x: len(x.unique()) > 1)]\n",
    "\n",
    "exclude_cols = [col for col in df1.columns if any(substring in col for substring in exclude)]\n",
    "df1 = df1.drop(columns=exclude_cols)\n",
    "\n",
    "df1 = df1.loc[:, ~df1.columns.str.contains(\"last_bought\") | df1.columns.str.contains(\"last_bought_lh\")]\n",
    "df1 = df1.loc[:, ~df1.columns.str.contains(\"ever_bought\") | df1.columns.str.contains(\"ever_bought_lh\")]\n",
    "df1 = df1.loc[:, ~df1.columns.str.contains(\"lapse\") | df1.columns.str.contains(\"flg_latest_being_lapse\")]\n",
    "\n",
    "\n",
    "df_everbought = df1.loc[:, df1.columns.str.contains(\"ever_bought_lh\")]\n",
    "df_everbought['ever_bought_lh_sum'] = df_everbought.filter(like='lh').sum(axis=1)\n",
    "df_everbought = df_everbought[['ever_bought_lh_sum']]\n",
    "\n",
    "df_lastbought_lh = df1.filter(like=\"last_bought_lh\")\n",
    "df_lastbought_lh['last_bought_lh_min'] = df_lastbought_lh.apply(lambda row: min(row.dropna(), default=np.nan), axis=1)\n",
    "df_lastbought_lh['last_bought_lh_min'] = df_lastbought_lh['last_bought_lh_min'].replace('9999', '0', regex = True)\n",
    "df_lastbought_lh = df_lastbought_lh[['last_bought_lh_min']]\n",
    "\n",
    "columns_to_drop = df1.columns[df1.columns.str.contains('ever_bought|last_bought')]\n",
    "df2 = df1.drop(columns=columns_to_drop, errors='ignore')\n",
    "df2 = pd.concat([df2, df_lastbought_lh], axis=1, join='inner')\n",
    "df2 = pd.concat([df2, df_everbought], axis=1, join='inner')"
   ]
  },
  {
   "cell_type": "markdown",
   "metadata": {},
   "source": [
    "1. Delete columns with all entries the same (no differentiating factors).\n",
    "2. Delete columns with headers containing ‘grp’, ‘ltc’, ‘inv’, and ‘gi’ (group, long term care, investment, general) which are unrelated to health and life insurance.\n",
    "3. Delete columns with headers containing ‘elx’, ‘mindef’, and ‘retail’ where specific programs or sectors contribute little to chances of one buying insurance. \n",
    "4. Delete columns related to contact information (containing ‘mail’, ‘email’, ‘call’, ‘sms’, etc.) that have low association with one buying insurance.  \n",
    "5. Delete columns we deem as irrelevant, i.e. ‘ctrycode’ and ‘is_sg_pr‘’. \n",
    "\n",
    "6. Combine the five columns that begin with ‘n_months_last_bought_lh_<product_code>,' representing five different life and health insurance products, into a single column named 'last_bought_lh_min.' Use the minimum value across all products as the indicator of the recent purchase history of the client.\n",
    "7. Combine the five columns that begin with ‘f_ever_bought_lh_<product_code>,' representing five different life and health insurance products, into a single column named 'ever_bought_lh_sum.' Summing the values across all products as the indicator of the total number of purchases of the client.\n",
    "\n"
   ]
  },
  {
   "cell_type": "markdown",
   "metadata": {},
   "source": [
    "### Changing the date of birthe variable to age(categorical)"
   ]
  },
  {
   "cell_type": "code",
   "execution_count": null,
   "metadata": {},
   "outputs": [],
   "source": [
    "df3 = df2.copy().drop('f_purchase_lh', axis = 1)\n",
    "df3['f_ever_declined_la'] = df3['f_ever_declined_la'].fillna(0)\n",
    "columns_with_missing_values = df3.columns[df3.isnull().any()]\n",
    "\n",
    "def calculate_age(date_of_birth):\n",
    "    # Parse the date of birth string into a datetime object\n",
    "    dob_date = datetime.strptime(date_of_birth, '%Y-%m-%d')\n",
    "\n",
    "    # Get the current date\n",
    "    current_date = datetime.now()\n",
    "\n",
    "    # Calculate the age\n",
    "    age = current_date.year - dob_date.year - ((current_date.month, current_date.day) < (dob_date.month, dob_date.day))\n",
    "\n",
    "    return age\n",
    "\n",
    "df3['cltdob_fix'] = df3['cltdob_fix'].apply(lambda x: calculate_age(x) if x != 'None' else None)\n",
    "\n",
    "bins = [0, 25, 60, float('inf')]\n",
    "labels = [0, 1, 2]\n",
    "\n",
    "# Create a new column 'age_range' based on the age ranges\n",
    "df3['cltdob_fix'] = pd.cut(df3['cltdob_fix'], bins=bins, labels=labels, right=False)\n",
    "\n",
    "df3 = df3.rename(columns={'cltdob_fix': 'age'})\n",
    "\n",
    "def fill_missing_randomly(column):\n",
    "    # Calculate the percentage of each value in the column\n",
    "    value_counts = column.value_counts(normalize=True)\n",
    "\n",
    "    # Replace missing values with values based on the current distribution\n",
    "    missing_mask = column.isnull()\n",
    "    column[missing_mask] = np.random.choice(value_counts.index, size=missing_mask.sum(), p=value_counts.values)\n",
    "\n",
    "for col in columns_with_missing_values:\n",
    "  fill_missing_randomly(df3[col])"
   ]
  },
  {
   "cell_type": "markdown",
   "metadata": {},
   "source": [
    "1. Change the ‘cltdob_fix’ column to ‘age’ column. Convert the client's date of birth to their age and classify it into three categories: below 25 ->0; 25 to 60 -> 1; and above 60 -> 2."
   ]
  },
  {
   "cell_type": "markdown",
   "metadata": {},
   "source": [
    "### Changing all the categorial data into integer representation."
   ]
  },
  {
   "cell_type": "code",
   "execution_count": null,
   "metadata": {},
   "outputs": [],
   "source": [
    "llabel_encoder = LabelEncoder()\n",
    "\n",
    "df3['annual_income_est'] = label_encoder.fit_transform(df3['annual_income_est'])\n",
    "df3['stat_flag'] = label_encoder.fit_transform(df3['stat_flag'])\n",
    "df3['age'] = label_encoder.fit_transform(df3['age'])\n",
    "df3['race_desc'] = label_encoder.fit_transform(df3['race_desc'])\n",
    "df3['cltsex_fix'] = label_encoder.fit_transform(df3['cltsex_fix'])\n",
    "\n",
    "df3['f_purchase_lh'] = df2['f_purchase_lh']\n",
    "df3['f_purchase_lh'] = df3['f_purchase_lh'].fillna(0)\n",
    "\n",
    "df3 = df3.astype(int)"
   ]
  },
  {
   "cell_type": "markdown",
   "metadata": {},
   "source": [
    "1. Change the ‘cltsex_fix’ column to binary expression. I.e Male = 0, Female = 1\n",
    "2. Change the ‘annual_income_est’ ranges to numbers: ‘Below 30k’ -> 0; ‘30k-60k’ -> 1; ‘60k - 100k’ -> 2;  ‘100k-200k’ -> 3;  ‘Above 200k’ -> 4.\n",
    "3. The above transformations are used to change all categorical variables we want to include in our model to number expressions so that SMOTE can be used to deal with the imbalanced data."
   ]
  },
  {
   "cell_type": "markdown",
   "metadata": {},
   "source": [
    "### Using SMOTE to handle inbalanced data"
   ]
  },
  {
   "cell_type": "code",
   "execution_count": null,
   "metadata": {},
   "outputs": [],
   "source": [
    "y = df3['f_purchase_lh']\n",
    "X = df3.drop('f_purchase_lh', axis=1)\n",
    "\n",
    "\n",
    "# Split the data into training and testing sets\n",
    "X_train, X_test, y_train, y_test = train_test_split(X, y, test_size=0.2, random_state=42)\n",
    "\n",
    "# Apply SMOTE to balance the classes\n",
    "smote = SMOTE(random_state=42)\n",
    "X_train_smote, y_train_smote = smote.fit_resample(X_train, y_train)"
   ]
  },
  {
   "cell_type": "markdown",
   "metadata": {},
   "source": [
    "## Model building"
   ]
  },
  {
   "cell_type": "markdown",
   "metadata": {},
   "source": [
    "### RandomForest"
   ]
  },
  {
   "cell_type": "code",
   "execution_count": null,
   "metadata": {},
   "outputs": [],
   "source": [
    "# Split the data into training and testing sets\n",
    "X_train, X_test, y_train, y_test = train_test_split(X_train_smote, y_train_smote, test_size=0.2, random_state=42)\n",
    "\n",
    "# Create a Random Forest classifier\n",
    "rf_classifier = RandomForestClassifier(n_estimators=100, random_state=42)\n",
    "\n",
    "# Train the model\n",
    "rf_classifier.fit(X_train, y_train)\n",
    "\n",
    "# Make predictions on the test set\n",
    "y_pred = rf_classifier.predict(X_test)\n",
    "\n",
    "print(f\"Accuracy: {accuracy:.2f}\")\n",
    "print(\"\\nClassification Report:\")\n",
    "print(classification_rep)"
   ]
  },
  {
   "cell_type": "markdown",
   "metadata": {},
   "source": [
    "### Model evaluation"
   ]
  },
  {
   "cell_type": "code",
   "execution_count": null,
   "metadata": {},
   "outputs": [],
   "source": [
    "accuracy = accuracy_score(y_test, y_pred)\n",
    "classification_rep = classification_report(y_test, y_pred)\n",
    "\n",
    "cv_scores = cross_val_score(rf_classifier, X_train_smote, y_train_smote, cv=5, scoring='accuracy')\n",
    "\n",
    "print(\"Cross-Validation Scores:\")\n",
    "print(cv_scores)"
   ]
  },
  {
   "cell_type": "markdown",
   "metadata": {},
   "source": [
    "## The cell below is **NOT** to be removed\n",
    "##### The function is to be amended so that it accepts the given input (dataframe) and returns the required output (list). \n",
    "##### It is recommended to test the function out prior to submission\n",
    "-------------------------------------------------------------------------------------------------------------------------------\n",
    "##### The hidden_data parsed into the function below will have the same layout columns wise as the dataset *SENT* to you\n",
    "##### Thus, ensure that steps taken to modify the initial dataset to fit into the model are also carried out in the function below"
   ]
  },
  {
   "cell_type": "code",
   "execution_count": null,
   "metadata": {},
   "outputs": [],
   "source": [
    "def testing_hidden_data(hidden_data: pd.DataFrame) -> list:\n",
    "    '''DO NOT REMOVE THIS FUNCTION.\n",
    "\n",
    "The function accepts a dataframe as input and return an iterable (list)\n",
    "of binary classes as output.\n",
    "\n",
    "The function should be coded to test on hidden data\n",
    "and should include any preprocessing functions needed for your model to perform. \n",
    "    \n",
    "All relevant code MUST be included in this function.'''\n",
    "    result = [] \n",
    "    return result"
   ]
  },
  {
   "cell_type": "markdown",
   "metadata": {},
   "source": [
    "##### Cell to check testing_hidden_data function"
   ]
  },
  {
   "cell_type": "code",
   "execution_count": 1,
   "metadata": {},
   "outputs": [
    {
     "ename": "NameError",
     "evalue": "name 'pd' is not defined",
     "output_type": "error",
     "traceback": [
      "\u001b[0;31m---------------------------------------------------------------------------\u001b[0m",
      "\u001b[0;31mNameError\u001b[0m                                 Traceback (most recent call last)",
      "Cell \u001b[0;32mIn[1], line 2\u001b[0m\n\u001b[1;32m      1\u001b[0m \u001b[38;5;66;03m# This cell should output a list of predictions.\u001b[39;00m\n\u001b[0;32m----> 2\u001b[0m test_df \u001b[38;5;241m=\u001b[39m \u001b[43mpd\u001b[49m\u001b[38;5;241m.\u001b[39mread_parquet(filepath)\n\u001b[1;32m      3\u001b[0m test_df \u001b[38;5;241m=\u001b[39m test_df\u001b[38;5;241m.\u001b[39mdrop(columns\u001b[38;5;241m=\u001b[39m[\u001b[38;5;124m\"\u001b[39m\u001b[38;5;124mf_purchase_lh\u001b[39m\u001b[38;5;124m\"\u001b[39m])\n\u001b[1;32m      4\u001b[0m \u001b[38;5;28mprint\u001b[39m(testing_hidden_data(test_df))\n",
      "\u001b[0;31mNameError\u001b[0m: name 'pd' is not defined"
     ]
    }
   ],
   "source": [
    "# This cell should output a list of predictions.\n",
    "test_df = pd.read_parquet(filepath)\n",
    "test_df = test_df.drop(columns=[\"f_purchase_lh\"])\n",
    "print(testing_hidden_data(test_df))"
   ]
  },
  {
   "cell_type": "markdown",
   "metadata": {},
   "source": [
    "### Please have the filename renamed and ensure that it can be run with the requirements above being met. All the best!"
   ]
  }
 ],
 "metadata": {
  "kernelspec": {
   "display_name": "Python 3",
   "language": "python",
   "name": "python3"
  },
  "language_info": {
   "codemirror_mode": {
    "name": "ipython",
    "version": 3
   },
   "file_extension": ".py",
   "mimetype": "text/x-python",
   "name": "python",
   "nbconvert_exporter": "python",
   "pygments_lexer": "ipython3",
   "version": "3.10.6"
  }
 },
 "nbformat": 4,
 "nbformat_minor": 2
}
